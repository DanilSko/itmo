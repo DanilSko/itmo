{
 "cells": [
  {
   "cell_type": "code",
   "execution_count": 263,
   "metadata": {},
   "outputs": [],
   "source": [
    "import os\n",
    "import re\n",
    "import codecs\n",
    "import gensim\n",
    "import pymorphy2\n",
    "#import codecs"
   ]
  },
  {
   "cell_type": "code",
   "execution_count": 264,
   "metadata": {},
   "outputs": [],
   "source": [
    "import zipfile\n",
    "with zipfile.ZipFile('180.zip', 'r') as archive:\n",
    "    stream = archive.open('model.bin')\n",
    "    sem_model = gensim.models.KeyedVectors.load_word2vec_format(stream, binary=True)"
   ]
  },
  {
   "cell_type": "code",
   "execution_count": 265,
   "metadata": {},
   "outputs": [],
   "source": [
    "cotags = {'ADJF':'ADJ', # pymorphy2: word2vec \n",
    "'ADJS' : 'ADJ', \n",
    "'ADVB' : 'ADV', \n",
    "'COMP' : 'ADV', \n",
    "'GRND' : 'VERB', \n",
    "'INFN' : 'VERB', \n",
    "'NOUN' : 'NOUN', \n",
    "'PRED' : 'ADV', \n",
    "'PRTF' : 'ADJ', \n",
    "'PRTS' : 'VERB', \n",
    "'VERB' : 'VERB'}"
   ]
  },
  {
   "cell_type": "code",
   "execution_count": 266,
   "metadata": {},
   "outputs": [],
   "source": [
    "def cleantext(sometext):\n",
    "    sometext = re.sub ('\\n|\\ni','', sometext) \n",
    "    sometext = re.sub ('(.)([.,!?;:])','\\\\1 \\\\2', sometext)\n",
    "    return (sometext)"
   ]
  },
  {
   "cell_type": "code",
   "execution_count": 267,
   "metadata": {},
   "outputs": [],
   "source": [
    "def tokenize (string):\n",
    "    return string.split(' ')"
   ]
  },
  {
   "cell_type": "code",
   "execution_count": 268,
   "metadata": {},
   "outputs": [],
   "source": [
    "def get_gram_tag (tag):\n",
    "    ud_POS = 'NONE'\n",
    "    this_pos = tag.POS\n",
    "    if this_pos in cotags:\n",
    "        ud_POS = cotags [this_pos]\n",
    "    return ud_POS"
   ]
  },
  {
   "cell_type": "code",
   "execution_count": 269,
   "metadata": {},
   "outputs": [],
   "source": [
    "def choose_simword (simwords, original_pos):\n",
    "    for simword in simwords:\n",
    "        word_tag = simword[0]\n",
    "        tag = word_tag.split ('_')[1]\n",
    "        if tag == original_pos:\n",
    "            return (word_tag)\n",
    "    return simwords [0][0]\n",
    "    "
   ]
  },
  {
   "cell_type": "code",
   "execution_count": 270,
   "metadata": {},
   "outputs": [],
   "source": [
    "def get_most_similar (word_and_tag, sem_model):\n",
    "    word, tag = word_and_tag\n",
    "    ud_pos_tag = get_gram_tag (tag)\n",
    "    simword = word\n",
    "    print (word)\n",
    "    print (tag)\n",
    "    word_for_vec = word +'_' + ud_pos_tag\n",
    "    \n",
    "    if word_for_vec in model:\n",
    "        print (word_for_vec)\n",
    "        simwords = model.most_similar(word_for_vec, topn=10)\n",
    "        simword = choose_simword (simwords, ud_pos_tag) #[0][0]\n",
    "        print ('got synonym {} {}'.format(word, simword))\n",
    "    #simwords = model.most_similar(positive=[word], topn=10):\n",
    "    return (simword)"
   ]
  },
  {
   "cell_type": "code",
   "execution_count": 271,
   "metadata": {},
   "outputs": [],
   "source": [
    "def replace_words_with_vectsyns (wordlist):\n",
    "    #open_binary_model = open ('model.bin')\n",
    "    #my_model = gensim.models.KeyedVectors.load_word2vec_format(open_binary_model, binary=True)\n",
    "    newlist = []\n",
    "    for parse in wordlist:\n",
    "        simword = get_most_similar (parse, sem_model)\n",
    "        newlist.append (simword)\n",
    "    return (newlist)"
   ]
  },
  {
   "cell_type": "code",
   "execution_count": 272,
   "metadata": {},
   "outputs": [],
   "source": [
    "def lemmatize (wordlist):\n",
    "    morph = pymorphy2.MorphAnalyzer()\n",
    "    lemmatized = []\n",
    "    for word in wordlist:\n",
    "        parse = morph.parse(word)[0]\n",
    "        lemma = parse.normal_form\n",
    "        tag = parse.tag\n",
    "        lemmatized.append ((lemma, tag))\n",
    "    return (lemmatized)"
   ]
  },
  {
   "cell_type": "code",
   "execution_count": 273,
   "metadata": {},
   "outputs": [],
   "source": [
    "def vectorize_text(inputfile, outputfile):\n",
    "    text = codecs.open (inputfile, 'r', 'utf-8')\n",
    "    text_as_string = text.read()\n",
    "    text_as_string = cleantext (text_as_string)\n",
    "    tokenized_text = tokenize (text_as_string)\n",
    "    lemmas_and_grams = lemmatize (tokenized_text)\n",
    "    test_piece = lemmas_and_grams[:30]\n",
    "    #print (test_piece)\n",
    "    vectorized = replace_words_with_vectsyns (test_piece)\n",
    "    print (vectorized)\n",
    "    "
   ]
  },
  {
   "cell_type": "code",
   "execution_count": 274,
   "metadata": {},
   "outputs": [
    {
     "name": "stdout",
     "output_type": "stream",
     "text": [
      "в\n",
      "PREP\n",
      "один\n",
      "ADJF,Apro femn,sing,gent\n",
      "один_ADJ\n",
      "got synonym один одинаковый_ADJ\n",
      "из\n",
      "PREP\n",
      "отдалённый\n",
      "ADJF,Qual plur,gent\n",
      "наш\n",
      "ADJF,Apro plur,gent\n",
      "наш_ADJ\n",
      "got synonym наш град_PROPN\n",
      "губерния\n",
      "NOUN,inan,femn plur,gent\n",
      "губерния_NOUN\n",
      "got synonym губерния уезд_NOUN\n",
      "находиться\n",
      "VERB,impf,intr neut,sing,past,indc\n",
      "находиться_VERB\n",
      "got synonym находиться расположенный_VERB\n",
      "имение\n",
      "NOUN,inan,neut sing,nomn\n",
      "имение_NOUN\n",
      "got synonym имение именье_NOUN\n",
      "иван\n",
      "NOUN,anim,masc,Name sing,gent\n",
      "иван_NOUN\n",
      "got synonym иван травка_NOUN\n",
      "пётр\n",
      "NOUN,anim,masc,Patr sing,gent\n",
      "берестов\n",
      "NOUN,anim,masc,Sgtm,Surn sing,gent\n",
      ".\n",
      "PNCT\n",
      "в\n",
      "PREP\n",
      "молодость\n",
      "NOUN,inan,femn sing,loct\n",
      "молодость_NOUN\n",
      "got synonym молодость юность_NOUN\n",
      "свой\n",
      "ADJF,Apro,Anph femn,sing,gent\n",
      "свой_ADJ\n",
      "got synonym свой твой_ADJ\n",
      "служилый\n",
      "ADJS masc,sing\n",
      "служилый_ADJ\n"
     ]
    },
    {
     "name": "stderr",
     "output_type": "stream",
     "text": [
      "/Library/Frameworks/Python.framework/Versions/3.6/lib/python3.6/site-packages/gensim/matutils.py:737: FutureWarning: Conversion of the second argument of issubdtype from `int` to `np.signedinteger` is deprecated. In future, it will be treated as `np.int64 == np.dtype(int).type`.\n",
      "  if np.issubdtype(vec.dtype, np.int):\n"
     ]
    },
    {
     "name": "stdout",
     "output_type": "stream",
     "text": [
      "got synonym служилый тяглый_ADJ\n",
      "он\n",
      "NPRO,masc,3per,Anph sing,nomn\n",
      "в\n",
      "PREP\n",
      "гвардия\n",
      "NOUN,inan,femn sing,gent\n",
      "гвардия_NOUN\n",
      "got synonym гвардия гвардеец_NOUN\n",
      ",\n",
      "PNCT\n",
      "выйти\n",
      "VERB,perf,intr masc,sing,past,indc\n",
      "выйти_VERB\n",
      "got synonym выйти выходить_VERB\n",
      "в\n",
      "PREP\n",
      "отставка\n",
      "NOUN,inan,femn sing,accs\n",
      "отставка_NOUN\n",
      "got synonym отставка увольнение_NOUN\n",
      "в\n",
      "PREP\n",
      "начало\n",
      "NOUN,inan,neut sing,loct\n",
      "начало_NOUN\n",
      "got synonym начало начинать_NOUN\n",
      "1797\n",
      "NUMB,intg\n",
      "год\n",
      "NOUN,inan,masc sing,gent\n",
      "год_NOUN\n",
      "got synonym год месяц_NOUN\n",
      ",\n",
      "PNCT\n",
      "уехать\n",
      "VERB,perf,intr masc,sing,past,indc\n",
      "уехать_VERB\n",
      "got synonym уехать уезжать_VERB\n",
      "в\n",
      "PREP\n",
      "['в', 'одинаковый_ADJ', 'из', 'отдалённый', 'град_PROPN', 'уезд_NOUN', 'расположенный_VERB', 'именье_NOUN', 'травка_NOUN', 'пётр', 'берестов', '.', 'в', 'юность_NOUN', 'твой_ADJ', 'тяглый_ADJ', 'он', 'в', 'гвардеец_NOUN', ',', 'выходить_VERB', 'в', 'увольнение_NOUN', 'в', 'начинать_NOUN', '1797', 'месяц_NOUN', ',', 'уезжать_VERB', 'в']\n"
     ]
    }
   ],
   "source": [
    "inputfile = 'bk.txt' #'Dostoevsky_PrestuplenieINakazanie.txt'\n",
    "outputfile = 'vectorized_' + inputfile\n",
    "vectorize_text (inputfile, outputfile)"
   ]
  },
  {
   "cell_type": "code",
   "execution_count": null,
   "metadata": {},
   "outputs": [],
   "source": []
  },
  {
   "cell_type": "code",
   "execution_count": 225,
   "metadata": {},
   "outputs": [
    {
     "name": "stdout",
     "output_type": "stream",
     "text": [
      "лошадь_NOUN\n"
     ]
    },
    {
     "name": "stderr",
     "output_type": "stream",
     "text": [
      "/Library/Frameworks/Python.framework/Versions/3.6/lib/python3.6/site-packages/gensim/matutils.py:737: FutureWarning: Conversion of the second argument of issubdtype from `int` to `np.signedinteger` is deprecated. In future, it will be treated as `np.int64 == np.dtype(int).type`.\n",
      "  if np.issubdtype(vec.dtype, np.int):\n"
     ]
    }
   ],
   "source": [
    "import zipfile\n",
    "with zipfile.ZipFile('180.zip', 'r') as archive:\n",
    "    stream = archive.open('model.bin')\n",
    "    model = gensim.models.KeyedVectors.load_word2vec_format(stream, binary=True)\n",
    "simwords = model.most_similar('конь_NOUN', topn=10)\n",
    "print (simwords[0][0])"
   ]
  },
  {
   "cell_type": "code",
   "execution_count": 285,
   "metadata": {},
   "outputs": [
    {
     "name": "stdout",
     "output_type": "stream",
     "text": [
      "[('быть', OpencorporaTag('VERB,impf,intr plur,past,indc'))]\n"
     ]
    }
   ],
   "source": [
    "morph = pymorphy2.MorphAnalyzer()\n",
    "parse = morph.parse ('были')\n",
    "#parse = morph.parse ('Иван')\n",
    "tag = parse[0].tag\n",
    "lemma = parse[0].normal_form\n",
    "test = [(lemma,tag)]\n",
    "print (test)"
   ]
  },
  {
   "cell_type": "code",
   "execution_count": 281,
   "metadata": {},
   "outputs": [
    {
     "name": "stderr",
     "output_type": "stream",
     "text": [
      "/Library/Frameworks/Python.framework/Versions/3.6/lib/python3.6/site-packages/gensim/matutils.py:737: FutureWarning: Conversion of the second argument of issubdtype from `int` to `np.signedinteger` is deprecated. In future, it will be treated as `np.int64 == np.dtype(int).type`.\n",
      "  if np.issubdtype(vec.dtype, np.int):\n"
     ]
    },
    {
     "data": {
      "text/plain": [
       "[('лошадь_NOUN', 0.7664846777915955),\n",
       " ('жеребец_NOUN', 0.7329774498939514),\n",
       " ('седло_NOUN', 0.723147988319397),\n",
       " ('аргамак_NOUN', 0.7189077138900757),\n",
       " ('кобылица_NOUN', 0.7155561447143555),\n",
       " ('иноходец_NOUN', 0.7025481462478638),\n",
       " ('скакун_NOUN', 0.6938524842262268),\n",
       " ('кобыла_NOUN', 0.6869013905525208),\n",
       " ('конь_PROPN', 0.686468780040741),\n",
       " ('конь_VERB', 0.652535617351532)]"
      ]
     },
     "execution_count": 281,
     "metadata": {},
     "output_type": "execute_result"
    }
   ],
   "source": [
    "#open_binary_model = open ('model.bin')\n",
    "#my_model = gensim.models.KeyedVectors.load_word2vec_format(open_binary_model, binary=True)\n",
    "simwords = model.most_similar(positive=['конь_NOUN'], topn=10)\n",
    "simwords "
   ]
  },
  {
   "cell_type": "code",
   "execution_count": null,
   "metadata": {},
   "outputs": [],
   "source": []
  }
 ],
 "metadata": {
  "kernelspec": {
   "display_name": "Python 3",
   "language": "python",
   "name": "python3"
  },
  "language_info": {
   "codemirror_mode": {
    "name": "ipython",
    "version": 3
   },
   "file_extension": ".py",
   "mimetype": "text/x-python",
   "name": "python",
   "nbconvert_exporter": "python",
   "pygments_lexer": "ipython3",
   "version": "3.6.5"
  }
 },
 "nbformat": 4,
 "nbformat_minor": 2
}
